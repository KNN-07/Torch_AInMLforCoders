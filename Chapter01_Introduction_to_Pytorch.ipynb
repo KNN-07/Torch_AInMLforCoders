{
 "cells": [
  {
   "cell_type": "markdown",
   "metadata": {},
   "source": [
    "# Environment:\n",
    "- It is much easier to install stuff in Linux env (for both Pytorch and TF, TF Windows from 2.10+ is not GPU accelerated natively), so you should use Linux if you can!\n",
    "- The original books use Tensorflow, but my port use Pytorch\n",
    "- Use conda to manage the working env is advised\n",
    "- My current env: Windows 11 with Anaconda 2024.1"
   ]
  },
  {
   "cell_type": "code",
   "execution_count": null,
   "metadata": {},
   "outputs": [],
   "source": [
    "# https://pytorch.org/get-started/locally/\n",
    "# At the time of writing, the conda package is not available for PyTorch anymore.\n",
    "# The recommended way is to install it using pip.\n",
    "# CPU only\n",
    "!pip3 install torch torchvision torchaudio\n",
    "# CUDA\n",
    "!pip3 install torch torchvision torchaudio --index-url https://download.pytorch.org/whl/cu118"
   ]
  },
  {
   "cell_type": "markdown",
   "metadata": {},
   "source": [
    "# Simple Machine Learning model\n",
    "Input:\n",
    "> x = -1, 0, 1, 2, 3, 4 <br> y = -3, -1, 1, 3, 5, 7\n",
    "\n",
    "Formula:\n",
    "> y = 2x - 1\n"
   ]
  },
  {
   "cell_type": "code",
   "execution_count": 3,
   "metadata": {},
   "outputs": [
    {
     "name": "stderr",
     "output_type": "stream",
     "text": [
      "Training Epochs: 100%|██████████| 500/500 [00:00<00:00, 7801.64it/s]"
     ]
    },
    {
     "name": "stdout",
     "output_type": "stream",
     "text": [
      "Epoch [50/500], Loss: 0.4792\n",
      "Epoch [100/500], Loss: 0.1697\n",
      "Epoch [150/500], Loss: 0.0601\n",
      "Epoch [200/500], Loss: 0.0213\n",
      "Epoch [250/500], Loss: 0.0075\n",
      "Epoch [300/500], Loss: 0.0027\n",
      "Epoch [350/500], Loss: 0.0009\n",
      "Epoch [400/500], Loss: 0.0003\n",
      "Epoch [450/500], Loss: 0.0001\n",
      "Epoch [500/500], Loss: 0.0000\n"
     ]
    },
    {
     "name": "stderr",
     "output_type": "stream",
     "text": [
      "\n"
     ]
    }
   ],
   "source": [
    "import torch\n",
    "import torch.nn as nn\n",
    "import torch.optim as optim\n",
    "import numpy as np\n",
    "from tqdm import tqdm\n",
    "\n",
    "# Define the model architecture, here we use a single linear layer\n",
    "class LinearModel(nn.Module):\n",
    "    def __init__(self):\n",
    "        super(LinearModel, self).__init__()\n",
    "        self.linear = nn.Linear(in_features=1, out_features=1)\n",
    "\n",
    "    def forward(self, x):\n",
    "        return self.linear(x)\n",
    "\n",
    "# Initialize the model\n",
    "model = LinearModel()\n",
    "\n",
    "# Choose the optimizer as \"Stochastic Gradient Descent\" - SGD\n",
    "# and the loss function as \"Mean Squared Error\" - MSE\n",
    "criterion = nn.MSELoss()\n",
    "optimizer = optim.SGD(model.parameters(), lr=0.01)\n",
    "\n",
    "# Prepare the training data\n",
    "xs = np.array([-1.0, 0.0, 1.0, 2.0, 3.0, 4.0], dtype=float)\n",
    "ys = np.array([-3.0, -1.0, 1.0, 3.0, 5.0, 7.0], dtype=float)\n",
    "\n",
    "# Convert numpy arrays to torch tensors\n",
    "inputs = torch.tensor(xs, dtype=torch.float32).view(-1, 1)\n",
    "targets = torch.tensor(ys, dtype=torch.float32).view(-1, 1)\n",
    "\n",
    "# Train the model for 500 epochs using tqdm for progress bar\n",
    "for epoch in tqdm(range(500), desc=\"Training Epochs\"):\n",
    "    # Forward pass\n",
    "    outputs = model(inputs)\n",
    "    loss = criterion(outputs, targets)\n",
    "    \n",
    "    # Backward pass and optimization\n",
    "    optimizer.zero_grad()\n",
    "    loss.backward()\n",
    "    optimizer.step()\n",
    "\n",
    "    if (epoch+1) % 50 == 0:\n",
    "        print(f'Epoch [{epoch+1}/500], Loss: {loss.item():.4f}')"
   ]
  },
  {
   "cell_type": "code",
   "execution_count": 5,
   "metadata": {},
   "outputs": [
    {
     "name": "stdout",
     "output_type": "stream",
     "text": [
      "Prediction for x = 10: 18.9811\n",
      "Weights: 1.9973\n",
      "Bias: -0.9915\n"
     ]
    }
   ],
   "source": [
    "# Print predictions for x = 10\n",
    "x = torch.tensor([10.0], dtype=torch.float32).view(-1, 1)\n",
    "print(f'Prediction for x = 10: {model(x).item():.4f}')\n",
    "\n",
    "# Print weights and bias\n",
    "print(f'Weights: {model.linear.weight.item():.4f}')\n",
    "print(f'Bias: {model.linear.bias.item():.4f}')"
   ]
  },
  {
   "cell_type": "markdown",
   "metadata": {},
   "source": [
    "# Inital formula\n",
    "> y = 2x-1\n",
    "# Model prediction\n",
    "> y = 1.9973x-0.9915"
   ]
  }
 ],
 "metadata": {
  "kernelspec": {
   "display_name": "base",
   "language": "python",
   "name": "python3"
  },
  "language_info": {
   "codemirror_mode": {
    "name": "ipython",
    "version": 3
   },
   "file_extension": ".py",
   "mimetype": "text/x-python",
   "name": "python",
   "nbconvert_exporter": "python",
   "pygments_lexer": "ipython3",
   "version": "3.12.3"
  }
 },
 "nbformat": 4,
 "nbformat_minor": 2
}
